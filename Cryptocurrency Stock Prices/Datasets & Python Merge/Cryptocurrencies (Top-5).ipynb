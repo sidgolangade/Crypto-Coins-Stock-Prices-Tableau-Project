{
 "cells": [
  {
   "cell_type": "code",
   "execution_count": 30,
   "metadata": {},
   "outputs": [],
   "source": [
    "import numpy as np\n",
    "import pandas as pd\n",
    "import seaborn as sns"
   ]
  },
  {
   "cell_type": "code",
   "execution_count": 31,
   "metadata": {},
   "outputs": [],
   "source": [
    "bdf = pd.read_csv('BTC-USD.csv')\n",
    "edf = pd.read_csv('ETH-USD.csv')\n",
    "xdf= pd.read_csv('XRP-USD.csv')\n",
    "bcdf = pd.read_csv('BCH-USD.csv')\n",
    "cdf = pd.read_csv('ADA-USD.csv')"
   ]
  },
  {
   "cell_type": "code",
   "execution_count": 32,
   "metadata": {},
   "outputs": [],
   "source": [
    "bdf['Coin'] = 'Bitcoin'\n",
    "edf['Coin'] = 'Ethereum'\n",
    "xdf['Coin'] = 'XRP'\n",
    "bcdf['Coin'] = 'Bitcoin-Cash'\n",
    "cdf['Coin'] = 'Cardano'"
   ]
  },
  {
   "cell_type": "code",
   "execution_count": 33,
   "metadata": {},
   "outputs": [],
   "source": [
    "be = bdf.append(edf)\n",
    "bex = be.append(xdf)\n",
    "bexbc = bex.append(bcdf)\n",
    "bexbcc = bexbc.append(cdf)\n",
    "cryptos = bexbcc"
   ]
  },
  {
   "cell_type": "code",
   "execution_count": 34,
   "metadata": {},
   "outputs": [
    {
     "data": {
      "text/html": [
       "<div>\n",
       "<style scoped>\n",
       "    .dataframe tbody tr th:only-of-type {\n",
       "        vertical-align: middle;\n",
       "    }\n",
       "\n",
       "    .dataframe tbody tr th {\n",
       "        vertical-align: top;\n",
       "    }\n",
       "\n",
       "    .dataframe thead th {\n",
       "        text-align: right;\n",
       "    }\n",
       "</style>\n",
       "<table border=\"1\" class=\"dataframe\">\n",
       "  <thead>\n",
       "    <tr style=\"text-align: right;\">\n",
       "      <th></th>\n",
       "      <th>Date</th>\n",
       "      <th>Open</th>\n",
       "      <th>High</th>\n",
       "      <th>Low</th>\n",
       "      <th>Close</th>\n",
       "      <th>Adj Close</th>\n",
       "      <th>Volume</th>\n",
       "      <th>Coin</th>\n",
       "    </tr>\n",
       "  </thead>\n",
       "  <tbody>\n",
       "    <tr>\n",
       "      <th>0</th>\n",
       "      <td>2015-07-13</td>\n",
       "      <td>310.826996</td>\n",
       "      <td>310.947998</td>\n",
       "      <td>281.010986</td>\n",
       "      <td>292.053986</td>\n",
       "      <td>292.053986</td>\n",
       "      <td>62053900.0</td>\n",
       "      <td>Bitcoin</td>\n",
       "    </tr>\n",
       "    <tr>\n",
       "      <th>1</th>\n",
       "      <td>2015-07-14</td>\n",
       "      <td>292.033997</td>\n",
       "      <td>296.147003</td>\n",
       "      <td>286.638000</td>\n",
       "      <td>287.463989</td>\n",
       "      <td>287.463989</td>\n",
       "      <td>28727200.0</td>\n",
       "      <td>Bitcoin</td>\n",
       "    </tr>\n",
       "    <tr>\n",
       "      <th>2</th>\n",
       "      <td>2015-07-15</td>\n",
       "      <td>288.045013</td>\n",
       "      <td>293.247986</td>\n",
       "      <td>285.367004</td>\n",
       "      <td>285.829010</td>\n",
       "      <td>285.829010</td>\n",
       "      <td>27486600.0</td>\n",
       "      <td>Bitcoin</td>\n",
       "    </tr>\n",
       "    <tr>\n",
       "      <th>3</th>\n",
       "      <td>2015-07-16</td>\n",
       "      <td>286.041992</td>\n",
       "      <td>291.183014</td>\n",
       "      <td>275.239990</td>\n",
       "      <td>278.088989</td>\n",
       "      <td>278.088989</td>\n",
       "      <td>49482600.0</td>\n",
       "      <td>Bitcoin</td>\n",
       "    </tr>\n",
       "    <tr>\n",
       "      <th>4</th>\n",
       "      <td>2015-07-17</td>\n",
       "      <td>278.091003</td>\n",
       "      <td>280.279999</td>\n",
       "      <td>272.042999</td>\n",
       "      <td>279.471985</td>\n",
       "      <td>279.471985</td>\n",
       "      <td>27591400.0</td>\n",
       "      <td>Bitcoin</td>\n",
       "    </tr>\n",
       "  </tbody>\n",
       "</table>\n",
       "</div>"
      ],
      "text/plain": [
       "         Date        Open        High         Low       Close   Adj Close  \\\n",
       "0  2015-07-13  310.826996  310.947998  281.010986  292.053986  292.053986   \n",
       "1  2015-07-14  292.033997  296.147003  286.638000  287.463989  287.463989   \n",
       "2  2015-07-15  288.045013  293.247986  285.367004  285.829010  285.829010   \n",
       "3  2015-07-16  286.041992  291.183014  275.239990  278.088989  278.088989   \n",
       "4  2015-07-17  278.091003  280.279999  272.042999  279.471985  279.471985   \n",
       "\n",
       "       Volume     Coin  \n",
       "0  62053900.0  Bitcoin  \n",
       "1  28727200.0  Bitcoin  \n",
       "2  27486600.0  Bitcoin  \n",
       "3  49482600.0  Bitcoin  \n",
       "4  27591400.0  Bitcoin  "
      ]
     },
     "execution_count": 34,
     "metadata": {},
     "output_type": "execute_result"
    }
   ],
   "source": [
    "cryptos.head()"
   ]
  },
  {
   "cell_type": "code",
   "execution_count": 35,
   "metadata": {},
   "outputs": [
    {
     "data": {
      "text/html": [
       "<div>\n",
       "<style scoped>\n",
       "    .dataframe tbody tr th:only-of-type {\n",
       "        vertical-align: middle;\n",
       "    }\n",
       "\n",
       "    .dataframe tbody tr th {\n",
       "        vertical-align: top;\n",
       "    }\n",
       "\n",
       "    .dataframe thead th {\n",
       "        text-align: right;\n",
       "    }\n",
       "</style>\n",
       "<table border=\"1\" class=\"dataframe\">\n",
       "  <thead>\n",
       "    <tr style=\"text-align: right;\">\n",
       "      <th></th>\n",
       "      <th>Date</th>\n",
       "      <th>Open</th>\n",
       "      <th>High</th>\n",
       "      <th>Low</th>\n",
       "      <th>Close</th>\n",
       "      <th>Adj Close</th>\n",
       "      <th>Volume</th>\n",
       "      <th>Coin</th>\n",
       "    </tr>\n",
       "  </thead>\n",
       "  <tbody>\n",
       "    <tr>\n",
       "      <th>1012</th>\n",
       "      <td>2020-07-09</td>\n",
       "      <td>0.129908</td>\n",
       "      <td>0.129908</td>\n",
       "      <td>0.118261</td>\n",
       "      <td>0.124293</td>\n",
       "      <td>0.124293</td>\n",
       "      <td>659099388.0</td>\n",
       "      <td>Cardano</td>\n",
       "    </tr>\n",
       "    <tr>\n",
       "      <th>1013</th>\n",
       "      <td>2020-07-10</td>\n",
       "      <td>0.124230</td>\n",
       "      <td>0.124417</td>\n",
       "      <td>0.111033</td>\n",
       "      <td>0.118316</td>\n",
       "      <td>0.118316</td>\n",
       "      <td>513272164.0</td>\n",
       "      <td>Cardano</td>\n",
       "    </tr>\n",
       "    <tr>\n",
       "      <th>1014</th>\n",
       "      <td>2020-07-11</td>\n",
       "      <td>0.118349</td>\n",
       "      <td>0.126715</td>\n",
       "      <td>0.117927</td>\n",
       "      <td>0.125214</td>\n",
       "      <td>0.125214</td>\n",
       "      <td>393237278.0</td>\n",
       "      <td>Cardano</td>\n",
       "    </tr>\n",
       "    <tr>\n",
       "      <th>1015</th>\n",
       "      <td>2020-07-12</td>\n",
       "      <td>NaN</td>\n",
       "      <td>NaN</td>\n",
       "      <td>NaN</td>\n",
       "      <td>NaN</td>\n",
       "      <td>NaN</td>\n",
       "      <td>NaN</td>\n",
       "      <td>Cardano</td>\n",
       "    </tr>\n",
       "    <tr>\n",
       "      <th>1016</th>\n",
       "      <td>2020-07-13</td>\n",
       "      <td>0.127029</td>\n",
       "      <td>0.134215</td>\n",
       "      <td>0.126380</td>\n",
       "      <td>0.132079</td>\n",
       "      <td>0.132079</td>\n",
       "      <td>506587328.0</td>\n",
       "      <td>Cardano</td>\n",
       "    </tr>\n",
       "  </tbody>\n",
       "</table>\n",
       "</div>"
      ],
      "text/plain": [
       "            Date      Open      High       Low     Close  Adj Close  \\\n",
       "1012  2020-07-09  0.129908  0.129908  0.118261  0.124293   0.124293   \n",
       "1013  2020-07-10  0.124230  0.124417  0.111033  0.118316   0.118316   \n",
       "1014  2020-07-11  0.118349  0.126715  0.117927  0.125214   0.125214   \n",
       "1015  2020-07-12       NaN       NaN       NaN       NaN        NaN   \n",
       "1016  2020-07-13  0.127029  0.134215  0.126380  0.132079   0.132079   \n",
       "\n",
       "           Volume     Coin  \n",
       "1012  659099388.0  Cardano  \n",
       "1013  513272164.0  Cardano  \n",
       "1014  393237278.0  Cardano  \n",
       "1015          NaN  Cardano  \n",
       "1016  506587328.0  Cardano  "
      ]
     },
     "execution_count": 35,
     "metadata": {},
     "output_type": "execute_result"
    }
   ],
   "source": [
    "cryptos.tail()"
   ]
  },
  {
   "cell_type": "code",
   "execution_count": 36,
   "metadata": {},
   "outputs": [
    {
     "data": {
      "text/plain": [
       "Bitcoin         1828\n",
       "XRP             1828\n",
       "Ethereum        1803\n",
       "Bitcoin-Cash    1087\n",
       "Cardano         1017\n",
       "Name: Coin, dtype: int64"
      ]
     },
     "execution_count": 36,
     "metadata": {},
     "output_type": "execute_result"
    }
   ],
   "source": [
    "cryptos['Coin'].value_counts()"
   ]
  },
  {
   "cell_type": "code",
   "execution_count": 37,
   "metadata": {},
   "outputs": [
    {
     "data": {
      "text/plain": [
       "Date         0\n",
       "Open         5\n",
       "High         5\n",
       "Low          5\n",
       "Close        5\n",
       "Adj Close    5\n",
       "Volume       5\n",
       "Coin         0\n",
       "dtype: int64"
      ]
     },
     "execution_count": 37,
     "metadata": {},
     "output_type": "execute_result"
    }
   ],
   "source": [
    "cryptos.isnull().sum()"
   ]
  },
  {
   "cell_type": "code",
   "execution_count": 38,
   "metadata": {},
   "outputs": [],
   "source": [
    "cryptos.dropna(inplace=True)"
   ]
  },
  {
   "cell_type": "code",
   "execution_count": 39,
   "metadata": {},
   "outputs": [
    {
     "data": {
      "text/plain": [
       "Date         0\n",
       "Open         0\n",
       "High         0\n",
       "Low          0\n",
       "Close        0\n",
       "Adj Close    0\n",
       "Volume       0\n",
       "Coin         0\n",
       "dtype: int64"
      ]
     },
     "execution_count": 39,
     "metadata": {},
     "output_type": "execute_result"
    }
   ],
   "source": [
    "cryptos.isnull().sum()"
   ]
  },
  {
   "cell_type": "code",
   "execution_count": 40,
   "metadata": {},
   "outputs": [
    {
     "data": {
      "text/plain": [
       "<matplotlib.axes._subplots.AxesSubplot at 0x7ff7f16a5bd0>"
      ]
     },
     "execution_count": 40,
     "metadata": {},
     "output_type": "execute_result"
    },
    {
     "data": {
      "image/png": "[encoded data removed]",
      "text/plain": [
       "<Figure size 432x288 with 1 Axes>"
      ]
     },
     "metadata": {
      "needs_background": "light"
     },
     "output_type": "display_data"
    }
   ],
   "source": [
    "sns.heatmap(cryptos.isnull(),yticklabels=False,cbar=False,cmap='viridis')"
   ]
  },
  {
   "cell_type": "code",
   "execution_count": 41,
   "metadata": {},
   "outputs": [],
   "source": [
    "cryptos.to_csv('crypto_coins.csv')"
   ]
  },
  {
   "cell_type": "code",
   "execution_count": null,
   "metadata": {},
   "outputs": [],
   "source": []
  }
 ],
 "metadata": {
  "kernelspec": {
   "display_name": "Python 3",
   "language": "python",
   "name": "python3"
  },
  "language_info": {
   "codemirror_mode": {
    "name": "ipython",
    "version": 3
   },
   "file_extension": ".py",
   "mimetype": "text/x-python",
   "name": "python",
   "nbconvert_exporter": "python",
   "pygments_lexer": "ipython3",
   "version": "3.7.7"
  }
 },
 "nbformat": 4,
 "nbformat_minor": 4
}
